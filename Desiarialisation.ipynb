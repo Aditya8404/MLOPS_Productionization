{
 "cells": [
  {
   "cell_type": "code",
   "execution_count": 1,
   "id": "1711bf91",
   "metadata": {},
   "outputs": [],
   "source": [
    "import numpy as np\n",
    "from pickle import load"
   ]
  },
  {
   "cell_type": "code",
   "execution_count": 2,
   "id": "6d6ffc26",
   "metadata": {},
   "outputs": [],
   "source": [
    "# Loading pretrained classifiers from pickle file\n",
    "\n",
    "scaler = load(open('models/standard_scaler.pkl', 'rb'))\n",
    "knn_classifier = load(open('models/knn_model.pkl', 'rb'))\n",
    "lr_classifier = load(open('models/lr_model.pkl', 'rb'))\n",
    "nb_classifier = load(open('models/nb_model.pkl', 'rb'))\n",
    "dt_classifier = load(open('models/dt_model.pkl', 'rb'))\n",
    "sv_classifier = load(open('models/sv_model.pkl', 'rb'))"
   ]
  },
  {
   "cell_type": "code",
   "execution_count": 3,
   "id": "27799f91",
   "metadata": {},
   "outputs": [
    {
     "name": "stdout",
     "output_type": "stream",
     "text": [
      "Enter Water Details\n",
      "Enter the ph: 7\n",
      "Enter the Hardness: 200\n",
      "Enter the Solids: 18000\n",
      "Enter the Chloramines: 8\n",
      "Enter the Sulphate: 320\n",
      "Enter the Conductivity: 400\n",
      "Enter the Organic_carbon: 13\n",
      "Enter the Trihalomethanes: 70\n",
      "Enter the Turbidity: 4.56\n"
     ]
    }
   ],
   "source": [
    "# Read the Query Data\n",
    "\n",
    "print(\"Enter Water Details\")\n",
    "ph = float(input('Enter the ph: '))\n",
    "hd = float(input('Enter the Hardness: '))\n",
    "sd = float(input('Enter the Solids: '))\n",
    "cl = float(input('Enter the Chloramines: '))\n",
    "sl = float(input('Enter the Sulphate: '))\n",
    "cd = float(input('Enter the Conductivity: '))\n",
    "oc = float(input('Enter the Organic_carbon: '))\n",
    "tm = float(input('Enter the Trihalomethanes: '))\n",
    "tb = float(input('Enter the Turbidity: '))"
   ]
  },
  {
   "cell_type": "markdown",
   "id": "0a6f2853",
   "metadata": {},
   "source": [
    "### Converting the values to 2D Array"
   ]
  },
  {
   "cell_type": "code",
   "execution_count": 4,
   "id": "eb807355",
   "metadata": {},
   "outputs": [],
   "source": [
    "query_point = np.array([ph,hd,sd,cl,sl,cd,oc,tm,tb])"
   ]
  },
  {
   "cell_type": "code",
   "execution_count": 5,
   "id": "bfa6202b",
   "metadata": {},
   "outputs": [
    {
     "data": {
      "text/plain": [
       "array([7.00e+00, 2.00e+02, 1.80e+04, 8.00e+00, 3.20e+02, 4.00e+02,\n",
       "       1.30e+01, 7.00e+01, 4.56e+00])"
      ]
     },
     "execution_count": 5,
     "metadata": {},
     "output_type": "execute_result"
    }
   ],
   "source": [
    "query_point"
   ]
  },
  {
   "cell_type": "code",
   "execution_count": 6,
   "id": "0a452303",
   "metadata": {},
   "outputs": [
    {
     "data": {
      "text/plain": [
       "array([[7.00e+00, 2.00e+02, 1.80e+04, 8.00e+00, 3.20e+02, 4.00e+02,\n",
       "        1.30e+01, 7.00e+01, 4.56e+00]])"
      ]
     },
     "execution_count": 6,
     "metadata": {},
     "output_type": "execute_result"
    }
   ],
   "source": [
    "query_point.reshape(1, -1)"
   ]
  },
  {
   "cell_type": "code",
   "execution_count": 7,
   "id": "43d42953",
   "metadata": {},
   "outputs": [
    {
     "data": {
      "text/plain": [
       "array([[7.00e+00, 2.00e+02, 1.80e+04, 8.00e+00, 3.20e+02, 4.00e+02,\n",
       "        1.30e+01, 7.00e+01, 4.56e+00]])"
      ]
     },
     "execution_count": 7,
     "metadata": {},
     "output_type": "execute_result"
    }
   ],
   "source": [
    "query_point = query_point.reshape(1, -1)\n",
    "\n",
    "query_point"
   ]
  },
  {
   "cell_type": "code",
   "execution_count": 8,
   "id": "b9f6df88",
   "metadata": {},
   "outputs": [
    {
     "name": "stderr",
     "output_type": "stream",
     "text": [
      "C:\\Users\\adity\\AppData\\Local\\Programs\\Python\\Python310\\lib\\site-packages\\sklearn\\base.py:450: UserWarning: X does not have valid feature names, but StandardScaler was fitted with feature names\n",
      "  warnings.warn(\n"
     ]
    },
    {
     "data": {
      "text/plain": [
       "array([[-0.06511714,  0.14252652, -0.46035316,  0.54507919, -0.32193494,\n",
       "        -0.33408992, -0.39642132,  0.21384611,  0.77685563]])"
      ]
     },
     "execution_count": 8,
     "metadata": {},
     "output_type": "execute_result"
    }
   ],
   "source": [
    "query_point_transformed = scaler.transform(query_point)\n",
    "\n",
    "query_point_transformed"
   ]
  },
  {
   "cell_type": "code",
   "execution_count": 9,
   "id": "74465bf6",
   "metadata": {},
   "outputs": [
    {
     "name": "stderr",
     "output_type": "stream",
     "text": [
      "C:\\Users\\adity\\AppData\\Local\\Programs\\Python\\Python310\\lib\\site-packages\\sklearn\\base.py:450: UserWarning: X does not have valid feature names, but KNeighborsClassifier was fitted with feature names\n",
      "  warnings.warn(\n"
     ]
    },
    {
     "data": {
      "text/plain": [
       "array([1], dtype=int64)"
      ]
     },
     "execution_count": 9,
     "metadata": {},
     "output_type": "execute_result"
    }
   ],
   "source": [
    "knn_classifier.predict(query_point_transformed)"
   ]
  },
  {
   "cell_type": "code",
   "execution_count": 10,
   "id": "95067e66",
   "metadata": {},
   "outputs": [
    {
     "name": "stderr",
     "output_type": "stream",
     "text": [
      "C:\\Users\\adity\\AppData\\Local\\Programs\\Python\\Python310\\lib\\site-packages\\sklearn\\base.py:450: UserWarning: X does not have valid feature names, but LogisticRegression was fitted with feature names\n",
      "  warnings.warn(\n"
     ]
    },
    {
     "data": {
      "text/plain": [
       "array([0], dtype=int64)"
      ]
     },
     "execution_count": 10,
     "metadata": {},
     "output_type": "execute_result"
    }
   ],
   "source": [
    "lr_classifier.predict(query_point_transformed)"
   ]
  },
  {
   "cell_type": "code",
   "execution_count": 11,
   "id": "9e5a54bc",
   "metadata": {},
   "outputs": [
    {
     "name": "stderr",
     "output_type": "stream",
     "text": [
      "C:\\Users\\adity\\AppData\\Local\\Programs\\Python\\Python310\\lib\\site-packages\\sklearn\\base.py:450: UserWarning: X does not have valid feature names, but GaussianNB was fitted with feature names\n",
      "  warnings.warn(\n"
     ]
    },
    {
     "data": {
      "text/plain": [
       "array([0], dtype=int64)"
      ]
     },
     "execution_count": 11,
     "metadata": {},
     "output_type": "execute_result"
    }
   ],
   "source": [
    "nb_classifier.predict(query_point_transformed)"
   ]
  },
  {
   "cell_type": "code",
   "execution_count": 12,
   "id": "7044ac56",
   "metadata": {},
   "outputs": [
    {
     "name": "stderr",
     "output_type": "stream",
     "text": [
      "C:\\Users\\adity\\AppData\\Local\\Programs\\Python\\Python310\\lib\\site-packages\\sklearn\\base.py:450: UserWarning: X does not have valid feature names, but DecisionTreeClassifier was fitted with feature names\n",
      "  warnings.warn(\n"
     ]
    },
    {
     "data": {
      "text/plain": [
       "array([0], dtype=int64)"
      ]
     },
     "execution_count": 12,
     "metadata": {},
     "output_type": "execute_result"
    }
   ],
   "source": [
    "dt_classifier.predict(query_point_transformed)"
   ]
  },
  {
   "cell_type": "code",
   "execution_count": 13,
   "id": "97ca2f30",
   "metadata": {},
   "outputs": [
    {
     "name": "stderr",
     "output_type": "stream",
     "text": [
      "C:\\Users\\adity\\AppData\\Local\\Programs\\Python\\Python310\\lib\\site-packages\\sklearn\\base.py:450: UserWarning: X does not have valid feature names, but SVC was fitted with feature names\n",
      "  warnings.warn(\n"
     ]
    },
    {
     "data": {
      "text/plain": [
       "array([0], dtype=int64)"
      ]
     },
     "execution_count": 13,
     "metadata": {},
     "output_type": "execute_result"
    }
   ],
   "source": [
    "sv_classifier.predict(query_point_transformed)"
   ]
  },
  {
   "cell_type": "markdown",
   "id": "7d44807b",
   "metadata": {},
   "source": [
    "## Production Ready Code"
   ]
  },
  {
   "cell_type": "code",
   "execution_count": 14,
   "id": "5a28e952",
   "metadata": {},
   "outputs": [
    {
     "name": "stdout",
     "output_type": "stream",
     "text": [
      "Enter Water Details\n",
      "Enter the ph: 9.80\n",
      "Enter the Hardness: 98.77\n",
      "Enter the Solids: 27357.45\n",
      "Enter the Chloramines: 9.21\n",
      "Enter the Sulphate: 323.19\n",
      "Enter the Conductivity: 512.42\n",
      "Enter the Organic_carbon: 14.16\n",
      "Enter the Trihalomethanes: 59.45\n",
      "Enter the Turbidity: 2.76\n"
     ]
    },
    {
     "name": "stderr",
     "output_type": "stream",
     "text": [
      "C:\\Users\\adity\\AppData\\Local\\Programs\\Python\\Python310\\lib\\site-packages\\sklearn\\base.py:450: UserWarning: X does not have valid feature names, but StandardScaler was fitted with feature names\n",
      "  warnings.warn(\n",
      "C:\\Users\\adity\\AppData\\Local\\Programs\\Python\\Python310\\lib\\site-packages\\sklearn\\base.py:450: UserWarning: X does not have valid feature names, but GaussianNB was fitted with feature names\n",
      "  warnings.warn(\n"
     ]
    },
    {
     "data": {
      "text/plain": [
       "array([1], dtype=int64)"
      ]
     },
     "execution_count": 14,
     "metadata": {},
     "output_type": "execute_result"
    }
   ],
   "source": [
    "print(\"Enter Water Details\")\n",
    "ph = float(input('Enter the ph: '))\n",
    "hd = float(input('Enter the Hardness: '))\n",
    "sd = float(input('Enter the Solids: '))\n",
    "cl = float(input('Enter the Chloramines: '))\n",
    "sl = float(input('Enter the Sulphate: '))\n",
    "cd = float(input('Enter the Conductivity: '))\n",
    "oc = float(input('Enter the Organic_carbon: '))\n",
    "tm = float(input('Enter the Trihalomethanes: '))\n",
    "tb = float(input('Enter the Turbidity: '))\n",
    "\n",
    "query_point = np.array([ph,hd,sd,cl,sl,cd,oc,tm,tb]).reshape(1, -1)\n",
    "\n",
    "query_point_transformed = scaler.transform(query_point)\n",
    "\n",
    "nb_classifier.predict(query_point_transformed)"
   ]
  },
  {
   "cell_type": "code",
   "execution_count": null,
   "id": "d0b97c8f",
   "metadata": {},
   "outputs": [],
   "source": []
  }
 ],
 "metadata": {
  "kernelspec": {
   "display_name": "Python 3 (ipykernel)",
   "language": "python",
   "name": "python3"
  },
  "language_info": {
   "codemirror_mode": {
    "name": "ipython",
    "version": 3
   },
   "file_extension": ".py",
   "mimetype": "text/x-python",
   "name": "python",
   "nbconvert_exporter": "python",
   "pygments_lexer": "ipython3",
   "version": "3.10.4"
  }
 },
 "nbformat": 4,
 "nbformat_minor": 5
}
